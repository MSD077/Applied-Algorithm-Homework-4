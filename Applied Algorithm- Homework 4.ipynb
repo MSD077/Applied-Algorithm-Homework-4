{
 "cells": [
  {
   "cell_type": "code",
   "execution_count": 22,
   "id": "c9c6a958",
   "metadata": {},
   "outputs": [
    {
     "name": "stdout",
     "output_type": "stream",
     "text": [
      "[0.1234, 0.3434, 0.565, 0.656, 0.665, 0.897]\n"
     ]
    }
   ],
   "source": [
    "#Problem 7:Bucket sort\n",
    "def insertion_sort(l): \n",
    "    for i in range(1, len(l)):\n",
    "        value_to_sort = l[i]\n",
    "        while l[i-1] > value_to_sort and i>0:\n",
    "            l[i], l[i-1] = l[i-1], l[i]\n",
    "            i = i -1\n",
    "    return l\n",
    "\n",
    "def bucket_sort(D):\n",
    "    input_length = len(D)\n",
    "    B = []\n",
    "    for j in range(input_length):\n",
    "        B.append([])\n",
    "    for i in range(0, input_length):\n",
    "        index = int(input_length * D[i])\n",
    "        B[index].append(D[i])\n",
    "    for i in range(input_length):\n",
    "        insertion_sort(B[i])\n",
    "    return sum(B, [])\n",
    "print(bucket_sort([0.897, 0.565, 0.656,\n",
    "     0.1234, 0.665, 0.3434]))   "
   ]
  },
  {
   "cell_type": "code",
   "execution_count": 23,
   "id": "6a7a783e",
   "metadata": {},
   "outputs": [
    {
     "name": "stdout",
     "output_type": "stream",
     "text": [
      "[0, 1, 1, 2, 2, 3, 3, 4, 4, 5, 5, 6, 6]\n"
     ]
    }
   ],
   "source": [
    "#Problem 6: Counting sort\n",
    "def counting_sort(A):\n",
    "    k=max(A)\n",
    "    input_length=len(A)\n",
    "    B=[0]*(input_length+1)\n",
    "    C=[0]*(k+1)\n",
    "    for i in range(k):\n",
    "        C[i]=0\n",
    "    C[k]=0\n",
    "    for z in range(1,input_length):\n",
    "        B[z]=0\n",
    "    B[input_length]=0\n",
    "    for j in range(input_length):\n",
    "        C[A[j]]=C[A[j]]+1\n",
    "    for i in range(1,k+1):\n",
    "        C[i]=C[i]+C[i-1]\n",
    "    for x in range(input_length-1,-1,-1):\n",
    "        B[C[A[x]]]=A[x]\n",
    "        C[A[x]]=C[A[x]]-1\n",
    "    print(B[1:input_length+1])\n",
    "A=[5,1,3,0,4,2,6,3,1,2,4,5,6]\n",
    "counting_sort(A)"
   ]
  },
  {
   "cell_type": "code",
   "execution_count": 26,
   "id": "1553b0b5",
   "metadata": {},
   "outputs": [
    {
     "name": "stdout",
     "output_type": "stream",
     "text": [
      "The sorted array is: [0, 1, 5, 8, 9, 10, 14, 16, 18]\n"
     ]
    }
   ],
   "source": [
    "#Problem 5: Heap Sort\n",
    "def heap_sort(arr):\n",
    "    build_maxheap(arr) #creating a maxheap from a given input array\n",
    "    heap_size=len(arr)\n",
    "\n",
    "    for i in range(len(arr)-1,0,-1):\n",
    "        arr[i],arr[0]=arr[0],arr[i]\n",
    "        heap_size=heap_size-1\n",
    "        max_heapify(arr,heap_size,0)\n",
    "    return arr\n",
    "\n",
    "def max_heapify(b,heap_size,i):\n",
    "    left=(2*i)+1 \n",
    "    right=(2*i)+2 \n",
    "    largest=i\n",
    "    if left<heap_size and b[left]>b[largest]:\n",
    "        largest=left\n",
    "    if right<heap_size and b[right]>b[largest]:\n",
    "        largest=right\n",
    "    if largest!=i:  #if largest changes then swap the elements and apply max_heapify on the new root incase it violates the max_heap property\n",
    "        b[largest],b[i]=b[i],b[largest]\n",
    "        max_heapify(b,heap_size,largest)\n",
    "\n",
    "def build_maxheap(b):\n",
    "    heap_size=len(b)\n",
    "    for i in range((heap_size)//2,-1,-1): # start from middle element and apply max_heapify until the first element\n",
    "        max_heapify(b,heap_size,i)\n",
    "\n",
    "input_array=[10,16,5,8,14,9,0,1,18]\n",
    "print(\"The sorted array is:\",heap_sort(input_array))"
   ]
  },
  {
   "cell_type": "code",
   "execution_count": 25,
   "id": "02142c75",
   "metadata": {},
   "outputs": [
    {
     "name": "stdout",
     "output_type": "stream",
     "text": [
      "Original array: [5, 7, 6, 3, 4, 2, 8, 1]\n",
      "[array([5]), array([7]), array([6]), array([3]), array([4]), array([2]), array([8]), array([1])]\n",
      "[5, 7]\n",
      "[3, 6]\n",
      "[2, 4]\n",
      "[1, 8]\n",
      "[3, 5, 6, 7]\n",
      "[1, 2, 4, 8]\n",
      "[1, 2, 3, 4, 5, 6, 7, 8]\n",
      "Modified array: [1, 2, 3, 4, 5, 6, 7, 8]\n"
     ]
    }
   ],
   "source": [
    "#Problem 4: Merge sort\n",
    "import numpy as np\n",
    "def merge_list(list1,list2):\n",
    "    list1.sort()\n",
    "    list2.sort()\n",
    "    res=[]\n",
    "    i,j=0,0\n",
    "    while(i<len(list1) and j<len(list2)):\n",
    "        if(list1[i]<list2[j]):\n",
    "            res.append(list1[i])\n",
    "            i+=1\n",
    "        else:\n",
    "            res.append(list2[j])\n",
    "            j+=1\n",
    "    while i<len(list1):\n",
    "        res.append(list1[i])\n",
    "        i+=1\n",
    "    while j<len(list2):\n",
    "        res.append(list2[j])\n",
    "        j+=1\n",
    "    return res\n",
    "\n",
    "def mergesort(A):\n",
    "    length=len(A)\n",
    "    A=np.array_split(A,length)\n",
    "    print(A)\n",
    "    index=1\n",
    "    while index<length:\n",
    "        for i in range(0,length-1,2*index):\n",
    "            A[i]=merge_list(A[i],A[i+index])\n",
    "        for i in range(0,length-1,2*index):\n",
    "            print(A[i])\n",
    "        index=index*2\n",
    "    return A\n",
    "if __name__ == '__main__':\n",
    " \n",
    "    A = [5, 7, 6, 3, 4, 2, 8,1]\n",
    " \n",
    "    print(\"Original array:\", A)\n",
    "    A=mergesort(A)\n",
    "    print(\"Modified array:\", A[0])"
   ]
  },
  {
   "cell_type": "code",
   "execution_count": null,
   "id": "52e60582",
   "metadata": {},
   "outputs": [],
   "source": []
  }
 ],
 "metadata": {
  "kernelspec": {
   "display_name": "Python 3",
   "language": "python",
   "name": "python3"
  },
  "language_info": {
   "codemirror_mode": {
    "name": "ipython",
    "version": 3
   },
   "file_extension": ".py",
   "mimetype": "text/x-python",
   "name": "python",
   "nbconvert_exporter": "python",
   "pygments_lexer": "ipython3",
   "version": "3.7.3"
  }
 },
 "nbformat": 4,
 "nbformat_minor": 5
}
